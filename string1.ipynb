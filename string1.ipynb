{
 "cells": [
  {
   "cell_type": "markdown",
   "metadata": {},
   "source": [
    "### Python program to check whether the string is Symmetrical or Palindrome"
   ]
  },
  {
   "cell_type": "code",
   "execution_count": 25,
   "metadata": {},
   "outputs": [
    {
     "name": "stdout",
     "output_type": "stream",
     "text": [
      "laxmi is good girl\n",
      "lrig doog si imxal\n"
     ]
    },
    {
     "data": {
      "text/plain": [
       "'string is not palindrom'"
      ]
     },
     "execution_count": 25,
     "metadata": {},
     "output_type": "execute_result"
    }
   ],
   "source": [
    "def palindrome(string1):\n",
    "    palindrome = string1[::-1]\n",
    "    print(palindrome)\n",
    "    if palindrome==string1:\n",
    "        return \"string is palindrom\"\n",
    "    else:\n",
    "        return \"string is not palindrom\"\n",
    "\n",
    "string = input()\n",
    "palindrome(string)\n",
    "\n"
   ]
  },
  {
   "cell_type": "markdown",
   "metadata": {},
   "source": [
    "Symmetric means if one half of string is same of anther half of string , is called as symmetric.\n",
    "If one half of sting is reverse of another half of string , is called as palindrome"
   ]
  },
  {
   "cell_type": "code",
   "execution_count": 24,
   "metadata": {},
   "outputs": [
    {
     "name": "stdout",
     "output_type": "stream",
     "text": [
      "anjali sharma\n",
      "anjalisharma\n",
      "string is not symmetric\n",
      "string is not palindromic\n"
     ]
    }
   ],
   "source": [
    "def fun(string1):\n",
    "#     string1 = string1.strip() # removing leading and trailing spaces\n",
    "    string1 = string1.replace(\" \",\"\")\n",
    "    print(string1)\n",
    "    half = int(len(string1)/2)\n",
    "    first_str = string1[:half]\n",
    "    second_str = string1[half:]\n",
    "        \n",
    "    if first_str==second_str:\n",
    "        print(\"string is symmetric\")\n",
    "    else:\n",
    "        print(\"string is not symmetric\")\n",
    "    #palindrome\n",
    "        \n",
    "    if first_str==second_str[::-1]:\n",
    "        print(\"string is palindromic\")\n",
    "    else:\n",
    "        print(\"string is not palindromic\")\n",
    "    \n",
    "string1 = input()\n",
    "fun(string1)"
   ]
  },
  {
   "cell_type": "markdown",
   "metadata": {},
   "source": [
    "### Find words which are greater than given length k"
   ]
  },
  {
   "cell_type": "code",
   "execution_count": 6,
   "metadata": {},
   "outputs": [
    {
     "name": "stdout",
     "output_type": "stream",
     "text": [
      "geeks for geeks\n",
      "3\n",
      "geeks\n",
      "geeks\n"
     ]
    }
   ],
   "source": [
    "def greaterWord(string,k):\n",
    "    string = string.strip() # removing leading and trailing space\n",
    "    string = string.split()\n",
    "    for i in string:\n",
    "        if(len(i)>k):\n",
    "            print(i)\n",
    "            \n",
    "string = input()\n",
    "k = int(input())\n",
    "greaterWord(string,k)\n",
    "        "
   ]
  },
  {
   "cell_type": "code",
   "execution_count": null,
   "metadata": {},
   "outputs": [],
   "source": []
  }
 ],
 "metadata": {
  "kernelspec": {
   "display_name": "Python 3",
   "language": "python",
   "name": "python3"
  },
  "language_info": {
   "codemirror_mode": {
    "name": "ipython",
    "version": 3
   },
   "file_extension": ".py",
   "mimetype": "text/x-python",
   "name": "python",
   "nbconvert_exporter": "python",
   "pygments_lexer": "ipython3",
   "version": "3.6.5"
  }
 },
 "nbformat": 4,
 "nbformat_minor": 2
}
