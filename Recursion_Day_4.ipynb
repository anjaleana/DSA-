{
 "cells": [
  {
   "cell_type": "markdown",
   "metadata": {},
   "source": [
    "#### Pascal Triangle "
   ]
  },
  {
   "cell_type": "code",
   "execution_count": 14,
   "metadata": {},
   "outputs": [
    {
     "name": "stdout",
     "output_type": "stream",
     "text": [
      "4\n",
      "[[1], [1, 1], [1, 2, 1], [1, 3, 3, 1]]\n"
     ]
    }
   ],
   "source": [
    "from os import *\n",
    "from sys import *\n",
    "from collections import *\n",
    "from math import *\n",
    "\n",
    "def printPascal(n:int):\n",
    "    # Write your code here.\n",
    "    # Return a list of lists.\n",
    "    triangle = []\n",
    "    for i in range(n):\n",
    "        add = []\n",
    "        for j in range(i+1):\n",
    "            add.append(callpascal(i,j))\n",
    "            \n",
    "        triangle.append(add)\n",
    "\n",
    "    return triangle\n",
    "\n",
    "def callpascal(i,j):\n",
    "    \n",
    "    if (j==0 or i==j):\n",
    "        return 1\n",
    "    else:\n",
    "        return callpascal(i-1,j-1)+callpascal(i-1,j)\n",
    "    \n",
    "n = int(input())\n",
    "print(printPascal(n))\n",
    "\n",
    "\n",
    "         "
   ]
  },
  {
   "cell_type": "markdown",
   "metadata": {},
   "source": [
    "####  As we are calculating the coefficients every time in the row and the sum of coefficients for each row is 2^R where R is the row number and for all rows, it will give 2^N (by applying geometric progression)."
   ]
  },
  {
   "cell_type": "markdown",
   "metadata": {},
   "source": [
    "O(N), Where ‘N’ denotes the number of Rows, space: O(N)"
   ]
  },
  {
   "cell_type": "markdown",
   "metadata": {},
   "source": [
    "#### Time Complexity : 2^n"
   ]
  },
  {
   "cell_type": "code",
   "execution_count": 17,
   "metadata": {},
   "outputs": [
    {
     "name": "stdout",
     "output_type": "stream",
     "text": [
      "4\n",
      "[[1], [1, 1], [1, 2, 1], [1, 3, 3, 1]]\n"
     ]
    }
   ],
   "source": [
    "def printPascal(n:int):\n",
    "    # Write your code here.\n",
    "    # Return a list of lists.\n",
    "    triangle = []\n",
    "    for i in range(n):\n",
    "        add = []\n",
    "        for j in range(i+1):\n",
    "            if (j==0 or i==j):\n",
    "                add.append(1)\n",
    "            else:\n",
    "                add.append(triangle[i-1][j-1]+triangle[i-1][j])\n",
    "        triangle.append(add)\n",
    "\n",
    "    return triangle\n",
    "\n",
    "n = int(input())\n",
    "print(printPascal(n))\n",
    "                                         "
   ]
  },
  {
   "cell_type": "markdown",
   "metadata": {},
   "source": [
    "#### Time complexity :  o(n^2) because we are using two nested loop\n",
    "#### Space complexity : O(n^2) because we are using ArrayList of ArrayList to store the values"
   ]
  },
  {
   "cell_type": "code",
   "execution_count": 24,
   "metadata": {},
   "outputs": [
    {
     "name": "stdout",
     "output_type": "stream",
     "text": [
      "5\n",
      "[[1], [1, 1], [1, 2, 1], [1, 3, 3, 1], [1, 4, 6, 4, 1]]\n"
     ]
    }
   ],
   "source": [
    "def printPascal(n:int):\n",
    "    # Write your code here.\n",
    "    # Return a list of lists.\n",
    "    triangle = []\n",
    "    \n",
    "    for i in range(1,n+1):\n",
    "        nCr=1\n",
    "        add = []\n",
    "        for j in range(1,i+1):\n",
    "            add.append(nCr)\n",
    "            nCr = nCr*(i-j)//j\n",
    "        triangle.append(add)\n",
    "\n",
    "    return triangle\n",
    "\n",
    "n = int(input())\n",
    "print(printPascal(n))\n",
    "                                         "
   ]
  },
  {
   "cell_type": "markdown",
   "metadata": {},
   "source": [
    "#### Time Complexity : O(n^2) because we are using two nested loop\n",
    "#### Space Complexity : O(1) - because contant space"
   ]
  },
  {
   "cell_type": "code",
   "execution_count": null,
   "metadata": {},
   "outputs": [],
   "source": []
  }
 ],
 "metadata": {
  "kernelspec": {
   "display_name": "Python 3",
   "language": "python",
   "name": "python3"
  },
  "language_info": {
   "codemirror_mode": {
    "name": "ipython",
    "version": 3
   },
   "file_extension": ".py",
   "mimetype": "text/x-python",
   "name": "python",
   "nbconvert_exporter": "python",
   "pygments_lexer": "ipython3",
   "version": "3.6.5"
  }
 },
 "nbformat": 4,
 "nbformat_minor": 2
}
