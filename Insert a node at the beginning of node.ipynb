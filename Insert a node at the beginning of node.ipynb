{
 "cells": [
  {
   "cell_type": "code",
   "execution_count": 3,
   "metadata": {},
   "outputs": [
    {
     "name": "stdout",
     "output_type": "stream",
     "text": [
      "Inserting Element: 100\n",
      "Inserting Element: 50\n",
      "Inserting Element: 150\n",
      "Inserting Element: 125\n",
      "50 100 125 150 "
     ]
    }
   ],
   "source": [
    "class Node:\n",
    "    #let's construct structure of binary search tree\n",
    "    def __init__(self,value):\n",
    "        self.key = value\n",
    "        self.left = None\n",
    "        self.right = None\n",
    "        \n",
    "#utility function to insert new node\n",
    "def insert(root,value):\n",
    "        if(root==None):\n",
    "            return Node(value)\n",
    "        elif root.key<value:\n",
    "            root.right = insert(root.right,value)\n",
    "        elif root.key>value:\n",
    "            root.left = insert(root.left,value)\n",
    "        return  root\n",
    "# inorder function to traversal of tree\n",
    "def inorder(root):\n",
    "    if root == None:\n",
    "        return \n",
    "    inorder(root.left)\n",
    "    print(root.key,end=\" \")\n",
    "    inorder(root.right)\n",
    "    \n",
    "if __name__ == '__main__':\n",
    "        \n",
    "    root = None\n",
    "    print(\"Inserting Element:\",100)\n",
    "    root = insert(root,100)\n",
    "    print(\"Inserting Element:\",50)\n",
    "    root = insert(root,50)\n",
    "    print(\"Inserting Element:\",150)\n",
    "    root = insert(root,150)\n",
    "    print(\"Inserting Element:\",125)\n",
    "    root = insert(root,125)\n",
    "    #inorder traversal of above tree traversal\n",
    "    inorder(root)"
   ]
  },
  {
   "cell_type": "code",
   "execution_count": null,
   "metadata": {},
   "outputs": [],
   "source": []
  }
 ],
 "metadata": {
  "kernelspec": {
   "display_name": "Python 3",
   "language": "python",
   "name": "python3"
  },
  "language_info": {
   "codemirror_mode": {
    "name": "ipython",
    "version": 3
   },
   "file_extension": ".py",
   "mimetype": "text/x-python",
   "name": "python",
   "nbconvert_exporter": "python",
   "pygments_lexer": "ipython3",
   "version": "3.6.5"
  }
 },
 "nbformat": 4,
 "nbformat_minor": 2
}
