{
 "cells": [
  {
   "cell_type": "markdown",
   "metadata": {},
   "source": [
    "### Write a recursive function that takes a number as an input and returns the factorial of that number."
   ]
  },
  {
   "cell_type": "code",
   "execution_count": 4,
   "metadata": {},
   "outputs": [
    {
     "name": "stdout",
     "output_type": "stream",
     "text": [
      "5\n"
     ]
    },
    {
     "data": {
      "text/plain": [
       "120"
      ]
     },
     "execution_count": 4,
     "metadata": {},
     "output_type": "execute_result"
    }
   ],
   "source": [
    "def fact(n):\n",
    "    if n == 1:\n",
    "        return 1\n",
    "    else:\n",
    "        return n*fact(n-1)\n",
    "    \n",
    "    \n",
    "n = int(input())\n",
    "fact(n)"
   ]
  },
  {
   "cell_type": "markdown",
   "metadata": {},
   "source": [
    "### Write a recursive function that takes a list of numbers as an input and returns the product of all the numbers in the list."
   ]
  },
  {
   "cell_type": "code",
   "execution_count": 16,
   "metadata": {},
   "outputs": [
    {
     "data": {
      "text/plain": [
       "5040"
      ]
     },
     "execution_count": 16,
     "metadata": {},
     "output_type": "execute_result"
    }
   ],
   "source": [
    "def productOfarray(array):\n",
    "    if len(array) == 0:\n",
    "        return 0\n",
    "    if len(array) == 1:\n",
    "        return array[0]\n",
    "    else:\n",
    "        return array[len(array)-1]*productOfarray(array[:len(array)-1])\n",
    "\n",
    "list1 = [2,3,4,5,6,7]\n",
    "productOfarray(list1)\n",
    "    "
   ]
  },
  {
   "cell_type": "markdown",
   "metadata": {},
   "source": [
    "### Write a recursive function that takes a string and reverse the string."
   ]
  },
  {
   "cell_type": "code",
   "execution_count": 32,
   "metadata": {},
   "outputs": [
    {
     "name": "stdout",
     "output_type": "stream",
     "text": [
      "amazing\n"
     ]
    },
    {
     "data": {
      "text/plain": [
       "'gnizama'"
      ]
     },
     "execution_count": 32,
     "metadata": {},
     "output_type": "execute_result"
    }
   ],
   "source": [
    "def reverseStr(string):\n",
    "    if len(string) == 1:\n",
    "        return string[0]\n",
    "    else:\n",
    "        return string[len(string)-1] + reverseStr(string[:len(string)-1])\n",
    "\n",
    "string = input()\n",
    "reverseStr(string)"
   ]
  },
  {
   "cell_type": "markdown",
   "metadata": {},
   "source": [
    "### Write a recursive function that takes an array that may contain more arrays in it and returns an array with all values flattened."
   ]
  },
  {
   "cell_type": "code",
   "execution_count": 33,
   "metadata": {},
   "outputs": [
    {
     "data": {
      "text/plain": [
       "[1, 2, 23, 45, 67, 8, 9]"
      ]
     },
     "execution_count": 33,
     "metadata": {},
     "output_type": "execute_result"
    }
   ],
   "source": [
    "def flatten_array(array):\n",
    "    res =  []\n",
    "    for i in array:\n",
    "        if type(i)==list:\n",
    "            res.extend(flatten_array(i))\n",
    "        else:\n",
    "            res.append(i)\n",
    "    return res\n",
    "    \n",
    "    \n",
    "list1 = [1,2,[23,45,67],8,9]\n",
    "flatten_array(list1)"
   ]
  },
  {
   "cell_type": "markdown",
   "metadata": {},
   "source": [
    "### Write a recursive function that takes an array of words and returns an array that contains all the words capitalized."
   ]
  },
  {
   "cell_type": "code",
   "execution_count": 40,
   "metadata": {},
   "outputs": [
    {
     "name": "stdout",
     "output_type": "stream",
     "text": [
      "['A', 'N', 'J', 'A', 'L', 'I']\n"
     ]
    }
   ],
   "source": [
    "class common:\n",
    "    def array_of_word(self,array):\n",
    "        res = []\n",
    "        for i in array:\n",
    "            res.append(i.upper())\n",
    "        return res\n",
    "        \n",
    "        \n",
    "        \n",
    "if __name__ == \"__main__\":\n",
    "    words = ['A','n','j','a','l','i']\n",
    "    obj = common()\n",
    "    print(obj.array_of_word(words))\n",
    "    \n",
    "        "
   ]
  },
  {
   "cell_type": "code",
   "execution_count": null,
   "metadata": {},
   "outputs": [],
   "source": []
  }
 ],
 "metadata": {
  "kernelspec": {
   "display_name": "Python 3",
   "language": "python",
   "name": "python3"
  },
  "language_info": {
   "codemirror_mode": {
    "name": "ipython",
    "version": 3
   },
   "file_extension": ".py",
   "mimetype": "text/x-python",
   "name": "python",
   "nbconvert_exporter": "python",
   "pygments_lexer": "ipython3",
   "version": "3.6.5"
  }
 },
 "nbformat": 4,
 "nbformat_minor": 2
}
