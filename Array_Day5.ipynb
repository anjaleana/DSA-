{
 "cells": [
  {
   "cell_type": "markdown",
   "metadata": {},
   "source": [
    "### Inserting the element in Array at given position\n",
    "\n",
    "size = 10\n",
    "\n",
    "position = 6 \n",
    "\n",
    "element = 100"
   ]
  },
  {
   "cell_type": "code",
   "execution_count": 20,
   "metadata": {},
   "outputs": [
    {
     "name": "stdout",
     "output_type": "stream",
     "text": [
      "1\n",
      "2\n",
      "3\n",
      "4\n",
      "5\n",
      "6\n",
      "7\n",
      "8\n",
      "9\n",
      "10\n",
      "[1, 2, 3, 4, 5, 6, 100, 7, 8, 9, 10]\n"
     ]
    }
   ],
   "source": [
    "class ArraysPosition:\n",
    "\n",
    "    def set_val(self,n,pos,element):\n",
    "        self.n = n\n",
    "        self.pos = pos\n",
    "        self.element = element\n",
    "    def arraysize(self):\n",
    "        a = []\n",
    "        for i in range(self.n):\n",
    "            a.append(int(input()))\n",
    "        return a\n",
    "    # Need to add element at postion 6\n",
    "    def add_element_on_pos(self,a,pos,element):\n",
    "        a.insert(pos,element)\n",
    "        return a\n",
    "\n",
    "size=10\n",
    "position=6\n",
    "element = 100\n",
    "arraypos = ArraysPosition()\n",
    "arraypos.set_val(10,6,100)\n",
    "arrays = arraypos.arraysize()\n",
    "arraypos.add_element_on_pos(arrays,position,element)\n",
    "print(arrays)\n",
    "\n",
    "        "
   ]
  },
  {
   "cell_type": "markdown",
   "metadata": {},
   "source": [
    "Best case : If we are inserting the element at position last - O(1)\n",
    "Worst Case : If we are inserting the element at fist position so for loop iterate from left to right to make space so if we have n element it will take O(n)"
   ]
  },
  {
   "cell_type": "code",
   "execution_count": null,
   "metadata": {},
   "outputs": [],
   "source": []
  }
 ],
 "metadata": {
  "kernelspec": {
   "display_name": "Python 3",
   "language": "python",
   "name": "python3"
  },
  "language_info": {
   "codemirror_mode": {
    "name": "ipython",
    "version": 3
   },
   "file_extension": ".py",
   "mimetype": "text/x-python",
   "name": "python",
   "nbconvert_exporter": "python",
   "pygments_lexer": "ipython3",
   "version": "3.6.5"
  }
 },
 "nbformat": 4,
 "nbformat_minor": 2
}
