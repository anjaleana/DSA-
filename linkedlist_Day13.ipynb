{
 "cells": [
  {
   "cell_type": "code",
   "execution_count": 5,
   "metadata": {},
   "outputs": [
    {
     "name": "stdout",
     "output_type": "stream",
     "text": [
      "List contanins: 40 30 20 10 \n"
     ]
    }
   ],
   "source": [
    "# create node structure\n",
    "class Node:\n",
    "    def __init__(self,data):\n",
    "        self.data = data\n",
    "        self.next = None\n",
    "        \n",
    "\n",
    "# function to create new node at beginning\n",
    "class LinkedList:\n",
    " \n",
    "    # Function to initialize the node object\n",
    "    def __init__(self):\n",
    "        self.head = None  # Initialize next as null\n",
    " \n",
    "    def push(self,data):\n",
    "        #create new node and assign the data\n",
    "        new_node = Node(data)\n",
    "        # point head to new node as NULL\n",
    "        new_node.next = self.head\n",
    "\n",
    "        # made newnode as head\n",
    "        self.head = new_node\n",
    "    # display the content of list\n",
    "    def printList(self):\n",
    "        temp = self.head\n",
    "        if(temp !=None):\n",
    "            print(\"List contanins:\",end=\" \")\n",
    "            while(temp!=None):\n",
    "                print(temp.data,end=\" \")\n",
    "                temp = temp.next\n",
    "            print()\n",
    "        else:\n",
    "            print(\"list is empty\")\n",
    "  \n",
    "\n",
    "        \n",
    "#test the code\n",
    "mylist = LinkedList()\n",
    "\n",
    "#add three elements at start of list\n",
    "mylist.push(10)\n",
    "mylist.push(20)\n",
    "mylist.push(30)\n",
    "mylist.push(40)\n",
    "mylist.printList()\n",
    "\n",
    "\n",
    "    \n",
    "    \n",
    "    "
   ]
  },
  {
   "cell_type": "markdown",
   "metadata": {},
   "source": [
    "### Searching the element at given linked list"
   ]
  },
  {
   "cell_type": "code",
   "execution_count": 13,
   "metadata": {},
   "outputs": [
    {
     "name": "stdout",
     "output_type": "stream",
     "text": [
      "Find the element: 1\n",
      "List contanins: 40 30 20 10 \n"
     ]
    }
   ],
   "source": [
    "# create node structure\n",
    "class Node:\n",
    "    def __init__(self,data):\n",
    "        self.data = data\n",
    "        self.next = None\n",
    "        \n",
    "\n",
    "# function to create new node at beginning\n",
    "class LinkedList:\n",
    " \n",
    "    # Function to initialize the node object\n",
    "    def __init__(self):\n",
    "        self.head = None  # Initialize next as null\n",
    " \n",
    "    def push(self,data):\n",
    "        #create new node and assign the data\n",
    "        new_node = Node(data)\n",
    "        # point head to new node as NULL\n",
    "        new_node.next = self.head\n",
    "\n",
    "        # made newnode as head\n",
    "        self.head = new_node\n",
    "    # display the content of list\n",
    "    def printList(self):\n",
    "        temp = self.head\n",
    "        if(temp !=None):\n",
    "            print(\"List contanins:\",end=\" \")\n",
    "            while(temp!=None):\n",
    "                print(temp.data,end=\" \")\n",
    "                temp = temp.next\n",
    "            print()\n",
    "        else:\n",
    "            print(\"list is empty\")\n",
    "  \n",
    "    def searchElement(self,key):\n",
    "        temp = self.head\n",
    "        while(temp!=None):\n",
    "            if(temp.data==key):\n",
    "                return 1\n",
    "            temp = temp.next\n",
    "        return -1\n",
    "        \n",
    "        \n",
    "#test the code\n",
    "mylist = LinkedList()\n",
    "\n",
    "#add three elements at start of list\n",
    "mylist.push(10)\n",
    "mylist.push(20)\n",
    "mylist.push(30)\n",
    "mylist.push(40)\n",
    "print(\"Find the element:\",mylist.searchElement(20))\n",
    "mylist.printList()\n"
   ]
  },
  {
   "cell_type": "code",
   "execution_count": null,
   "metadata": {},
   "outputs": [],
   "source": []
  }
 ],
 "metadata": {
  "kernelspec": {
   "display_name": "Python 3",
   "language": "python",
   "name": "python3"
  },
  "language_info": {
   "codemirror_mode": {
    "name": "ipython",
    "version": 3
   },
   "file_extension": ".py",
   "mimetype": "text/x-python",
   "name": "python",
   "nbconvert_exporter": "python",
   "pygments_lexer": "ipython3",
   "version": "3.6.5"
  }
 },
 "nbformat": 4,
 "nbformat_minor": 2
}
