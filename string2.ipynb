{
 "cells": [
  {
   "cell_type": "code",
   "execution_count": 3,
   "metadata": {},
   "outputs": [
    {
     "name": "stdout",
     "output_type": "stream",
     "text": [
      "Anjali is good girl\n",
      "['Anjali', 'is', 'good', 'girl']\n",
      "girl good is Anjali\n"
     ]
    }
   ],
   "source": [
    "def reverseFun(string):\n",
    "\n",
    "    #first split the string into words\n",
    "    word = string.split()\n",
    "    print(word)\n",
    "\n",
    "    # reverse the split list string and join using space\n",
    "    reverse_sentence = ' '.join(reversed(word))\n",
    "    print(reverse_sentence)\n",
    "    \n",
    "string = input()\n",
    "reverseFun(string)"
   ]
  },
  {
   "cell_type": "markdown",
   "metadata": {},
   "source": [
    "### Python – Avoid Spaces in string length"
   ]
  },
  {
   "cell_type": "code",
   "execution_count": 9,
   "metadata": {},
   "outputs": [
    {
     "name": "stdout",
     "output_type": "stream",
     "text": [
      "Anjali Sharma\n",
      "without space removal 13\n",
      "Length of string after space removal 12\n"
     ]
    }
   ],
   "source": [
    "def spaceRemoval(string):\n",
    "    with_out_space_removal = len(string)\n",
    "    print(\"without space removal\",with_out_space_removal)\n",
    "    count = sum(not chr.isspace() for chr in string)\n",
    "    print(\"Length of string after space removal\",count)\n",
    "\n",
    "string = input()\n",
    "spaceRemoval(string)\n",
    "    "
   ]
  },
  {
   "cell_type": "markdown",
   "metadata": {},
   "source": [
    "### Python program to print even length words in a string"
   ]
  },
  {
   "cell_type": "code",
   "execution_count": 3,
   "metadata": {},
   "outputs": [
    {
     "name": "stdout",
     "output_type": "stream",
     "text": [
      "I am laxmi\n",
      "am\n"
     ]
    }
   ],
   "source": [
    "def evenLength(string):\n",
    "    \n",
    "\n",
    "    # first fing the words from  sentence\n",
    "    word = string.split() #returning the list\n",
    "    #find each word in the list\n",
    "    for i in word:\n",
    "        #find out the length of word\n",
    "        if len(i)%2==0:\n",
    "            print(i)\n",
    "            \n",
    "    \n",
    "string = input()\n",
    "evenLength(string)"
   ]
  },
  {
   "cell_type": "markdown",
   "metadata": {},
   "source": [
    "### Python – Uppercase Half String"
   ]
  },
  {
   "cell_type": "code",
   "execution_count": 5,
   "metadata": {},
   "outputs": [
    {
     "name": "stdout",
     "output_type": "stream",
     "text": [
      "geeksforgeeks\n",
      "geeksfORGEEKS\n"
     ]
    }
   ],
   "source": [
    "def halfUppercase(string):\n",
    "    half = int(len(string)/2)\n",
    "    first_str = string[:half]\n",
    "    second_str = string[half:]\n",
    "    final_str = first_str+second_str.upper()\n",
    "    print(final_str)\n",
    "\n",
    "string = input()\n",
    "halfUppercase(string)\n",
    "    "
   ]
  },
  {
   "cell_type": "markdown",
   "metadata": {},
   "source": [
    "### Python | Program to accept the strings which contains all vowels"
   ]
  },
  {
   "cell_type": "code",
   "execution_count": 26,
   "metadata": {},
   "outputs": [
    {
     "name": "stdout",
     "output_type": "stream",
     "text": [
      "ABeeIghiObhkUul\n",
      "6\n",
      "Accepted\n"
     ]
    }
   ],
   "source": [
    "def containsVowel(string,count):\n",
    "    string = set(string.lower()) # converted string to lower case and removed all the duplicates characters\n",
    "    flag = 0\n",
    "    for i in string: # using for loop , we iterate the each and every characters in string\n",
    "        if i == 'a':\n",
    "            flag = 1\n",
    "            count = count+1\n",
    "        if i == 'e':\n",
    "            flag =1\n",
    "            count =count+1\n",
    "\n",
    "        if i == 'i':\n",
    "            flag = 1\n",
    "            count =count+1\n",
    "\n",
    "        if i == 'o':\n",
    "            flag = 1\n",
    "            count =count+1\n",
    "\n",
    "        if i == 'u':\n",
    "            flag = 1\n",
    "            count =count+1\n",
    "    return flag,count\n",
    "count=1\n",
    "string = input()\n",
    "flag,count = containsVowel(string,count)\n",
    "print(count)\n",
    "if flag ==1 and count>=5:\n",
    "    print(\"Accepted\")\n",
    "else:\n",
    "    print(\"Not Accepted\")\n"
   ]
  },
  {
   "cell_type": "markdown",
   "metadata": {},
   "source": [
    "### Count the Number of matching characters in a pair of string"
   ]
  },
  {
   "cell_type": "code",
   "execution_count": 30,
   "metadata": {},
   "outputs": [
    {
     "name": "stdout",
     "output_type": "stream",
     "text": [
      "bb2211@55k\n",
      "aabcddekll12@\n",
      "{'1', '2', '@', 'b', 'k'}\n"
     ]
    }
   ],
   "source": [
    "def matchedCharacters(input1,input2):\n",
    "    \n",
    "    # set of characters in input1\n",
    "    input1 = input1.strip() # removing the leading and trailing spaces\n",
    "    input1 = set(input1)\n",
    "    \n",
    "    #removing the leading and trailing spaces\n",
    "    input2 = input2.strip()\n",
    "    #set of characters in input2\n",
    "    input2 = set(input2)\n",
    "    \n",
    "    #using intersection , find the common characters\n",
    "    \n",
    "    common_characters = input1.intersection(input2)\n",
    "    print(common_characters)\n",
    "    \n",
    "input1 = input()\n",
    "input2 = input()\n",
    "matchedCharacters(input1,input2)"
   ]
  },
  {
   "cell_type": "markdown",
   "metadata": {},
   "source": [
    "### Program to check if a string contains any special character"
   ]
  },
  {
   "cell_type": "code",
   "execution_count": 32,
   "metadata": {},
   "outputs": [
    {
     "name": "stdout",
     "output_type": "stream",
     "text": [
      "Geeks For Geeks\n",
      "String is not accepted\n"
     ]
    }
   ],
   "source": [
    "def specialCharacters(string):\n",
    "    #iterate over the string \n",
    "    flag = 1 # set the flag for true condition\n",
    "    for i in string:\n",
    "        if i.isalnum(): # check whether characters are alnumeric or not\n",
    "            flag = 1\n",
    "        else:\n",
    "            flag = 0\n",
    "            break\n",
    "    if flag == 0:\n",
    "        print(\"String is not accepted\")\n",
    "    else:\n",
    "        print(\"string is accepted\")\n",
    "        \n",
    "    \n",
    "string = input()\n",
    "specialCharacters(string)\n",
    "        \n",
    "            \n",
    "            \n",
    "    "
   ]
  },
  {
   "cell_type": "code",
   "execution_count": null,
   "metadata": {},
   "outputs": [],
   "source": []
  }
 ],
 "metadata": {
  "kernelspec": {
   "display_name": "Python 3",
   "language": "python",
   "name": "python3"
  },
  "language_info": {
   "codemirror_mode": {
    "name": "ipython",
    "version": 3
   },
   "file_extension": ".py",
   "mimetype": "text/x-python",
   "name": "python",
   "nbconvert_exporter": "python",
   "pygments_lexer": "ipython3",
   "version": "3.6.5"
  }
 },
 "nbformat": 4,
 "nbformat_minor": 2
}
