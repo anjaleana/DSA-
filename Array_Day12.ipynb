{
 "cells": [
  {
   "cell_type": "markdown",
   "metadata": {},
   "source": [
    "#### search an element in the array"
   ]
  },
  {
   "cell_type": "code",
   "execution_count": 21,
   "metadata": {},
   "outputs": [
    {
     "name": "stdout",
     "output_type": "stream",
     "text": [
      "5\n",
      "Element need to search:1\n",
      "1\n",
      "2\n",
      "3\n",
      "4\n",
      "5\n",
      "Array Traversal: [1, 2, 3, 4, 5]\n",
      "1 is found\n"
     ]
    }
   ],
   "source": [
    "### element = 100\n",
    "class array:\n",
    "    def setArray(self,element,size):\n",
    "        self.element = element\n",
    "        self.size = size\n",
    "        a = []\n",
    "        for i in range(self.size):\n",
    "            a.append(int(input()))\n",
    "        return a\n",
    "    def elementSearch(self,array):\n",
    "        for i in range(self.size):\n",
    "            if array[i] == element:\n",
    "                return 1\n",
    "        return -1\n",
    "    def removeElement(self,array,pos):\n",
    "        for i in range(pos,self.size-1):\n",
    "            array[i] = array[i+1]\n",
    "        self.size = self.size-1\n",
    "        return array\n",
    "        \n",
    "            \n",
    "\n",
    "size = int(input())\n",
    "element = int(input(\"Element need to search:\"))\n",
    "ar = array()\n",
    "array = ar.setArray(element,size)\n",
    "print(\"Array Traversal:\",array)\n",
    "element_search = ar.elementSearch(array)\n",
    "if element_search == 1:\n",
    "    print(f'{element} is found')\n",
    "else:\n",
    "    print(f'{element} is not found')\n",
    "\n",
    "    \n",
    "    "
   ]
  },
  {
   "cell_type": "markdown",
   "metadata": {},
   "source": [
    "Time Complexity : Best case scenario:\n",
    "\n",
    "If element is in at position first then search will not take much time \n",
    "and TC : O(1)\n",
    "\n",
    "Worst case:\n",
    "If element is at last position then serach will happen from first to last , in that case, for loop iterate for N time so time complexity would be O(n)"
   ]
  },
  {
   "cell_type": "markdown",
   "metadata": {},
   "source": [
    "### Remove the element for given position"
   ]
  },
  {
   "cell_type": "code",
   "execution_count": 22,
   "metadata": {},
   "outputs": [
    {
     "name": "stdout",
     "output_type": "stream",
     "text": [
      "Provide index,which needs to remove0\n",
      "Array after index {pos} removed: [2, 3, 4, 5, 5]\n"
     ]
    }
   ],
   "source": [
    "pos = int(input(\"Provide index,which needs to remove\"))\n",
    "modified_array = ar.removeElement(array,pos)\n",
    "print('Array after index {pos} removed:',modified_array)"
   ]
  },
  {
   "cell_type": "markdown",
   "metadata": {},
   "source": [
    "Time Complexity : Best case scenario:\n",
    "\n",
    "If we are removing the last element\n",
    "and TC : O(1)\n",
    "\n",
    "Worst case:\n",
    "If element is at first position then element will be shifting from right to left for N-1 time so time complexity would be O(n-1)\n",
    "We will remove the coefficient and will take fastest growing term O(n)\n",
    "TC : Big O(n)"
   ]
  },
  {
   "cell_type": "code",
   "execution_count": null,
   "metadata": {},
   "outputs": [],
   "source": []
  }
 ],
 "metadata": {
  "kernelspec": {
   "display_name": "Python 3",
   "language": "python",
   "name": "python3"
  },
  "language_info": {
   "codemirror_mode": {
    "name": "ipython",
    "version": 3
   },
   "file_extension": ".py",
   "mimetype": "text/x-python",
   "name": "python",
   "nbconvert_exporter": "python",
   "pygments_lexer": "ipython3",
   "version": "3.6.5"
  }
 },
 "nbformat": 4,
 "nbformat_minor": 2
}
