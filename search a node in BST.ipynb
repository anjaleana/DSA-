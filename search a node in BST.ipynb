{
 "cells": [
  {
   "cell_type": "code",
   "execution_count": 10,
   "metadata": {},
   "outputs": [
    {
     "name": "stdout",
     "output_type": "stream",
     "text": [
      "Inserting element: 100\n",
      "Inserting element: 30\n",
      "Inserting element: 150\n",
      "Inserting element: 300\n",
      "30 100 150 300 Binary serach Tree Elements are: 100,30,150,300\n",
      "search found\n",
      "search found\n"
     ]
    }
   ],
   "source": [
    "#construct the class node\n",
    "class Node:\n",
    "    def __init__(self,val):\n",
    "        self.key = val\n",
    "        self.left = None\n",
    "        self.right = None\n",
    "def insert(root,val):\n",
    "    if root == None:\n",
    "        return Node(val)\n",
    "    elif root.key < val:\n",
    "        root.right = insert(root.right,val)\n",
    "    elif root.key>val:\n",
    "        root.left = insert(root.left,val)\n",
    "    return root\n",
    "def inorder(root):\n",
    "    if root == None:\n",
    "        return\n",
    "    inorder(root.left)\n",
    "    print(root.key,end=\" \")\n",
    "    inorder(root.right)\n",
    "def search(root,key):\n",
    "    if root==None:\n",
    "        return False\n",
    "    if root.key == key:\n",
    "        return True\n",
    "    if root.key < key:\n",
    "        return search(root.right,key)\n",
    "    else:\n",
    "        return search(root.left,key)\n",
    "        \n",
    "if __name__ == '__main__':\n",
    "    root = None\n",
    "    print(\"Inserting element:\",100)\n",
    "    root = insert(root,100)\n",
    "    print(\"Inserting element:\",30)\n",
    "    root = insert(root,30)\n",
    "    print(\"Inserting element:\",150)\n",
    "    root = insert(root,150)\n",
    "    print(\"Inserting element:\",300)\n",
    "    root = insert(root,300)\n",
    "    inorder(root)\n",
    "    print(\"Binary serach Tree Elements are: 100,30,150,300\")\n",
    "    if search(root,150)==True:\n",
    "        print(\"search found\")\n",
    "    else:\n",
    "        print(\"search not found\")\n",
    "    if search(root,300) == True:\n",
    "        print(\"search found\")\n",
    "    else:\n",
    "        print(\"search not found\")\n",
    "    "
   ]
  },
  {
   "cell_type": "code",
   "execution_count": null,
   "metadata": {},
   "outputs": [],
   "source": []
  }
 ],
 "metadata": {
  "kernelspec": {
   "display_name": "Python 3",
   "language": "python",
   "name": "python3"
  },
  "language_info": {
   "codemirror_mode": {
    "name": "ipython",
    "version": 3
   },
   "file_extension": ".py",
   "mimetype": "text/x-python",
   "name": "python",
   "nbconvert_exporter": "python",
   "pygments_lexer": "ipython3",
   "version": "3.6.5"
  }
 },
 "nbformat": 4,
 "nbformat_minor": 2
}
