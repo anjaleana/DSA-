{
 "cells": [
  {
   "cell_type": "markdown",
   "id": "c15ebc30",
   "metadata": {},
   "source": [
    "Given a string and number of rows ‘n’. Print the string formed by concatenating n rows when the input string is written in row-wise Zig-Zag fashion."
   ]
  },
  {
   "cell_type": "code",
   "execution_count": 11,
   "id": "01bc43d5",
   "metadata": {},
   "outputs": [
    {
     "name": "stdout",
     "output_type": "stream",
     "text": [
      "index: 0\n",
      "row_index: P\n",
      "['P', '', '']\n",
      "index: 1\n",
      "row_index: A\n",
      "['P', 'A', '']\n",
      "index: 2\n",
      "row_index: Y\n",
      "step: -1\n",
      "['P', 'A', 'Y']\n",
      "index: 1\n",
      "row_index: AP\n",
      "['P', 'AP', 'Y']\n",
      "index: 0\n",
      "row_index: PA\n",
      "['PA', 'AP', 'Y']\n",
      "index: 1\n",
      "row_index: APL\n",
      "['PA', 'APL', 'Y']\n",
      "index: 2\n",
      "row_index: YI\n",
      "step: -1\n",
      "['PA', 'APL', 'YI']\n",
      "index: 1\n",
      "row_index: APLS\n",
      "['PA', 'APLS', 'YI']\n",
      "index: 0\n",
      "row_index: PAH\n",
      "['PAH', 'APLS', 'YI']\n",
      "index: 1\n",
      "row_index: APLSI\n",
      "['PAH', 'APLSI', 'YI']\n",
      "index: 2\n",
      "row_index: YIR\n",
      "step: -1\n",
      "['PAH', 'APLSI', 'YIR']\n",
      "index: 1\n",
      "row_index: APLSII\n",
      "['PAH', 'APLSII', 'YIR']\n",
      "index: 0\n",
      "row_index: PAHN\n",
      "['PAHN', 'APLSII', 'YIR']\n",
      "index: 1\n",
      "row_index: APLSIIG\n",
      "['PAHN', 'APLSIIG', 'YIR']\n",
      "PAHNAPLSIIGYIR\n",
      "['PAHN', 'APLSIIG', 'YIR']\n"
     ]
    }
   ],
   "source": [
    "def convert_to_zigzag(s,num_rows):\n",
    "    if num_rows==1 or len(s)<=num_rows:\n",
    "        return s\n",
    "    rows = ['']*num_rows # it will create space with '' of num_rows time\n",
    "    index,step=0,1\n",
    "    \n",
    "    for char in s:\n",
    "        rows[index] += char\n",
    "        print(\"index:\",index)\n",
    "        print(\"row_index:\",rows[index])\n",
    "        if index == 0:\n",
    "            step = 1\n",
    "        elif index == num_rows-1:\n",
    "            step = -1\n",
    "            print(\"step:\",step)\n",
    "        index += step\n",
    "        print(rows)\n",
    "    zigzag = ''.join(rows)\n",
    "    print(zigzag)\n",
    "    return rows\n",
    "    \n",
    "s = \"PAYPALISHIRING\"\n",
    "num_rows=3\n",
    "print(convert_to_zigzag(s,num_rows))"
   ]
  },
  {
   "cell_type": "markdown",
   "id": "bf71af3f",
   "metadata": {},
   "source": [
    "Implement the myAtoi(string s) function, which converts a string to a 32-bit signed integer (similar to C/C++'s atoi function).\n",
    "\n",
    "The algorithm for myAtoi(string s) is as follows:\n",
    "\n",
    "Read in and ignore any leading whitespace.\n",
    "Check if the next character (if not already at the end of the string) is '-' or '+'. Read this character in if it is either. This determines if the final result is negative or positive respectively. Assume the result is positive if neither is present.\n",
    "Read in next the characters until the next non-digit character or the end of the input is reached. The rest of the string is ignored.\n",
    "Convert these digits into an integer (i.e. \"123\" -> 123, \"0032\" -> 32). If no digits were read, then the integer is 0. Change the sign as necessary (from step 2).\n",
    "If the integer is out of the 32-bit signed integer range [-231, 231 - 1], then clamp the integer so that it remains in the range. Specifically, integers less than -231 should be clamped to -231, and integers greater than 231 - 1 should be clamped to 231 - 1.\n",
    "Return the integer as the final result"
   ]
  },
  {
   "cell_type": "code",
   "execution_count": 58,
   "id": "550e3f75",
   "metadata": {},
   "outputs": [
    {
     "name": "stdout",
     "output_type": "stream",
     "text": [
      "987\n"
     ]
    }
   ],
   "source": [
    "import re\n",
    "def myAtoi(s):\n",
    "    s = s.lstrip()\n",
    "    num=0\n",
    "    if s and (s[0]=='-' or s [0]=='+'):\n",
    "        if s[0]=='-':\n",
    "            sign = -1\n",
    "        s = s[1:]\n",
    "        \n",
    "    for char in s:\n",
    "        if char.isdigit():\n",
    "            num = num*10+int(char)\n",
    "        else:\n",
    "            break\n",
    "    return num\n",
    "   \n",
    "    num = num*sign\n",
    "    INT_MIN,INT_MAX = -2**31,2*31-1\n",
    "    num = min(max(num,INT_MIN),INT_MAX)\n",
    "    return num\n",
    "    \n",
    "string = \"987 words and\"\n",
    "ans = myAtoi(string)\n",
    "print(ans)"
   ]
  },
  {
   "cell_type": "code",
   "execution_count": null,
   "id": "fbc126e3",
   "metadata": {},
   "outputs": [],
   "source": []
  },
  {
   "cell_type": "code",
   "execution_count": null,
   "id": "0217af75",
   "metadata": {},
   "outputs": [],
   "source": []
  }
 ],
 "metadata": {
  "kernelspec": {
   "display_name": "Python 3 (ipykernel)",
   "language": "python",
   "name": "python3"
  },
  "language_info": {
   "codemirror_mode": {
    "name": "ipython",
    "version": 3
   },
   "file_extension": ".py",
   "mimetype": "text/x-python",
   "name": "python",
   "nbconvert_exporter": "python",
   "pygments_lexer": "ipython3",
   "version": "3.8.10"
  }
 },
 "nbformat": 4,
 "nbformat_minor": 5
}
