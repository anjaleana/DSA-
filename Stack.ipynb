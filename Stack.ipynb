{
 "cells": [
  {
   "cell_type": "code",
   "execution_count": 5,
   "metadata": {},
   "outputs": [
    {
     "name": "stdout",
     "output_type": "stream",
     "text": [
      "stack is empty\n",
      "Pushing Element: 10\n",
      "Pushing Element: 20\n",
      "Pushing Element: 30\n",
      "pushing Element: 40\n",
      "stack is full\n",
      "popped element: 10\n",
      "popped element: 30\n",
      "popped element: 20\n"
     ]
    }
   ],
   "source": [
    "class Stack:\n",
    "    def __init__(self,size):\n",
    "        self.stack = [None]*size\n",
    "        self.top = -1\n",
    "        self.size = size\n",
    "    def push(self,val):\n",
    "        if self.top == self.size-1:\n",
    "            print(\"stack is full\")\n",
    "        else:\n",
    "            self.stack[self.top] = val\n",
    "            self.top = self.top+1\n",
    "    def pop(self):\n",
    "        if self.top == -1:\n",
    "            print(\"stack is empty\")\n",
    "        else:\n",
    "            print(\"popped element:\",self.stack[self.top])\n",
    "            self.top = self.top-1\n",
    "    \n",
    "if __name__ =='__main__':\n",
    "        \n",
    "    s = Stack(3)\n",
    "    s.pop()\n",
    "    print(\"Pushing Element:\",10)\n",
    "    s.push(10)\n",
    "    print(\"Pushing Element:\",20)\n",
    "    s.push(20)\n",
    "    print(\"Pushing Element:\",30)\n",
    "    s.push(30)\n",
    "    print(\"pushing Element:\",40)\n",
    "    s.push(40)\n",
    "    s.pop()\n",
    "    s.pop()\n",
    "    s.pop()"
   ]
  },
  {
   "cell_type": "code",
   "execution_count": null,
   "metadata": {},
   "outputs": [],
   "source": []
  }
 ],
 "metadata": {
  "kernelspec": {
   "display_name": "Python 3",
   "language": "python",
   "name": "python3"
  },
  "language_info": {
   "codemirror_mode": {
    "name": "ipython",
    "version": 3
   },
   "file_extension": ".py",
   "mimetype": "text/x-python",
   "name": "python",
   "nbconvert_exporter": "python",
   "pygments_lexer": "ipython3",
   "version": "3.6.5"
  }
 },
 "nbformat": 4,
 "nbformat_minor": 2
}
