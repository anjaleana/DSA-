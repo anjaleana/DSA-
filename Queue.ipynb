{
 "cells": [
  {
   "cell_type": "code",
   "execution_count": 6,
   "metadata": {},
   "outputs": [
    {
     "name": "stdout",
     "output_type": "stream",
     "text": [
      "queue is empty\n",
      "Pushing the element: 10\n",
      "Pushing the element: 20\n",
      "Pushing the element: 30\n",
      "Pushing the element: 40\n",
      "queue is full\n",
      "dequeued the element: 10\n",
      "dequeued the element: 20\n",
      "dequeued the element: 30\n",
      "queue is empty\n"
     ]
    }
   ],
   "source": [
    "class Queue:\n",
    "    def __init__(self,size):\n",
    "        self.queue = [None]*size\n",
    "        self.rear = 0\n",
    "        self.front = 0\n",
    "        self.size = size\n",
    "    def enqueue(self,val):\n",
    "        if self.rear == self.size:\n",
    "            print(\"queue is full\")\n",
    "        else:\n",
    "            self.queue[self.rear] = val\n",
    "            self.rear = self.rear+1\n",
    "    def dequeue(self):\n",
    "        if self.front == self.rear:\n",
    "            print(\"queue is empty\")\n",
    "        else:\n",
    "            print(\"dequeued the element:\",self.queue[self.front])\n",
    "            self.front = self.front+1\n",
    "if __name__ == '__main__':\n",
    "    s = Queue(3)\n",
    "    s.dequeue()\n",
    "    print(\"Pushing the element:\",10)\n",
    "    s.enqueue(10)\n",
    "    print(\"Pushing the element:\",20)\n",
    "    s.enqueue(20)\n",
    "    print(\"Pushing the element:\",30)\n",
    "    s.enqueue(30)\n",
    "    print(\"Pushing the element:\",40)\n",
    "    s.enqueue(40)\n",
    "    s.dequeue()\n",
    "    s.dequeue()\n",
    "    s.dequeue()\n",
    "    s.dequeue()\n",
    "    "
   ]
  },
  {
   "cell_type": "code",
   "execution_count": null,
   "metadata": {},
   "outputs": [],
   "source": []
  }
 ],
 "metadata": {
  "kernelspec": {
   "display_name": "Python 3",
   "language": "python",
   "name": "python3"
  },
  "language_info": {
   "codemirror_mode": {
    "name": "ipython",
    "version": 3
   },
   "file_extension": ".py",
   "mimetype": "text/x-python",
   "name": "python",
   "nbconvert_exporter": "python",
   "pygments_lexer": "ipython3",
   "version": "3.6.5"
  }
 },
 "nbformat": 4,
 "nbformat_minor": 2
}
