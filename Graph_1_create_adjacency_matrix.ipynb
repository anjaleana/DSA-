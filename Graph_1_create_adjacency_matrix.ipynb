{
 "cells": [
  {
   "cell_type": "code",
   "execution_count": 10,
   "metadata": {},
   "outputs": [
    {
     "name": "stdout",
     "output_type": "stream",
     "text": [
      "Edge from 0 to 1\n",
      "Edge from 0 to 2\n",
      "Edge from 1 to 2\n",
      "Edge from 1 to 3\n",
      "Edge from 2 to 3\n",
      "Edge from 2 to 4\n",
      "Edge from 3 to 4\n",
      "Adjacency Matrix Representation of graph\n",
      "01100\n",
      "00110\n",
      "00011\n",
      "00001\n",
      "00000\n",
      "To check whether there is a edge between vertexes\n",
      "found the edge between vertex 3 and 4\n"
     ]
    }
   ],
   "source": [
    "class AdjacencyMatrix:\n",
    "    def __init__(self,size):\n",
    "        self.arr = [] # initialize the array\n",
    "        for i in range(size):\n",
    "            self.arr.append([0 for i in range(size)])\n",
    "            \n",
    "    def addEdge(self,src,dest):\n",
    "        self.arr[src][dest] = 1\n",
    "    def printMatrix(self):\n",
    "        for row in self.arr:\n",
    "            for val in row:\n",
    "                print(val,end=\"\")\n",
    "            print()\n",
    "    def hasEdge(self,src,dest):\n",
    "        if self.arr[src][dest] == 1:\n",
    "            return 1\n",
    "        return 0\n",
    "    \n",
    "    def removeEdge(self):\n",
    "        self.arr[src][dest] = 0\n",
    "        \n",
    "if __name__ == '__main__':\n",
    "    \n",
    "    g = AdjacencyMatrix(5)\n",
    "    print(\"Edge from 0 to 1\")\n",
    "    g.addEdge(0,1)\n",
    "    print(\"Edge from 0 to 2\")\n",
    "    g.addEdge(0,2)\n",
    "    print(\"Edge from 1 to 2\")\n",
    "    g.addEdge(1,2)\n",
    "    print(\"Edge from 1 to 3\")\n",
    "    g.addEdge(1,3)\n",
    "    print(\"Edge from 2 to 3\")\n",
    "    g.addEdge(2,3)\n",
    "    print(\"Edge from 2 to 4\")\n",
    "    g.addEdge(2,4)\n",
    "    print(\"Edge from 3 to 4\")\n",
    "    g.addEdge(3,4)\n",
    "    print(\"Adjacency Matrix Representation of graph\")\n",
    "    g.printMatrix()\n",
    "    print(\"To check whether there is a edge between vertexes\")\n",
    "    if(g.hasEdge(3,4)==1):\n",
    "          print(\"found the edge between vertex {} and {}\".format(3,4))\n",
    "    else:\n",
    "          print(\"There is no edge between vertex {} and {}\".format(3,4))\n",
    "            "
   ]
  },
  {
   "cell_type": "code",
   "execution_count": null,
   "metadata": {},
   "outputs": [],
   "source": []
  }
 ],
 "metadata": {
  "kernelspec": {
   "display_name": "Python 3",
   "language": "python",
   "name": "python3"
  },
  "language_info": {
   "codemirror_mode": {
    "name": "ipython",
    "version": 3
   },
   "file_extension": ".py",
   "mimetype": "text/x-python",
   "name": "python",
   "nbconvert_exporter": "python",
   "pygments_lexer": "ipython3",
   "version": "3.6.5"
  }
 },
 "nbformat": 4,
 "nbformat_minor": 2
}
